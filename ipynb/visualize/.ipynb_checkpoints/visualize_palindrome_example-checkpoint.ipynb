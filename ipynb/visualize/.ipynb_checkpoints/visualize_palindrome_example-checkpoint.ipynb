{
 "cells": [
  {
   "cell_type": "code",
   "execution_count": null,
   "metadata": {},
   "outputs": [],
   "source": [
    "import os\n",
    "import argparse\n",
    "import logging\n",
    "import sys\n",
    "\n",
    "import torch\n",
    "from torch.optim.lr_scheduler import StepLR\n",
    "import torchtext\n",
    "\n",
    "os.chdir(os.path.dirname(os.path.abspath(os.path.dirname(os.path.abspath(os.path.dirname('__file__'))))))\n",
    "\n",
    "from models.seq2seq import Seq2seq\n",
    "from loss.loss import Perplexity\n",
    "from optim.optim import Optimizer\n",
    "from dataset import fields\n",
    "from evaluator.predictor import Predictor\n",
    "\n",
    "import matplotlib.pyplot as plt\n",
    "import matplotlib.ticker as ticker\n",
    "from sklearn.decomposition import PCA\n",
    "import numpy as np\n",
    "import json\n",
    "\n",
    "from sklearn.manifold import TSNE\n",
    "from collections import deque\n",
    "import math"
   ]
  },
  {
   "cell_type": "code",
   "execution_count": null,
   "metadata": {},
   "outputs": [],
   "source": [
    "LOG_FORMAT = '%(asctime)s %(name)-12s %(levelname)-8s %(message)s'\n",
    "logging.basicConfig(format=LOG_FORMAT, level=getattr(logging, \"info\".upper()))"
   ]
  },
  {
   "cell_type": "code",
   "execution_count": null,
   "metadata": {},
   "outputs": [],
   "source": [
    "rnn = \"lstm\"\n",
    "data_name = \"palindrome\"\n",
    "dir_name = \"Ctype4_N50\"\n",
    "pretrained_dir_name = None\n",
    "select = \"3\"\n",
    "\n",
    "train_path = \"data/\"+data_name+\"/\"+dir_name+\"/data_train.txt\"\n",
    "dev_path = \"data/\"+data_name+\"/\"+dir_name+\"/data_test.txt\"\n",
    "config_path = \"models/config.json\""
   ]
  },
  {
   "cell_type": "markdown",
   "metadata": {},
   "source": [
    "# Prepare dataset"
   ]
  },
  {
   "cell_type": "code",
   "execution_count": null,
   "metadata": {},
   "outputs": [],
   "source": [
    "max_len = 105\n",
    "src = fields.SourceField()\n",
    "tgt = fields.TargetField()\n",
    "def len_filter(example):\n",
    "    return len(example.src) <= max_len and len(example.tgt) <= max_len\n",
    "train = torchtext.data.TabularDataset(\n",
    "    path=train_path, format='tsv',\n",
    "    fields=[('src', src), ('tgt', tgt)],\n",
    "    filter_pred=len_filter)\n",
    "src.build_vocab(train)\n",
    "tgt.build_vocab(train)\n",
    "input_vocab = src.vocab\n",
    "output_vocab = tgt.vocab"
   ]
  },
  {
   "cell_type": "markdown",
   "metadata": {},
   "source": [
    "# Prepare loss"
   ]
  },
  {
   "cell_type": "code",
   "execution_count": null,
   "metadata": {},
   "outputs": [],
   "source": [
    "weight = torch.ones(len(tgt.vocab))\n",
    "pad = tgt.vocab.stoi[tgt.pad_token]\n",
    "loss = Perplexity(weight, pad)\n",
    "if torch.cuda.is_available():\n",
    "    loss.cuda()"
   ]
  },
  {
   "cell_type": "code",
   "execution_count": null,
   "metadata": {},
   "outputs": [],
   "source": [
    "optimizer = \"Adam\"\n",
    "seq2seq = None\n",
    "config_json = open(config_path).read()\n",
    "config = json.loads(config_json)\n",
    "config[\"max_len\"] = max_len\n",
    "config[\"hidden_size\"] = 100\n",
    "config[\"rnn_cell\"] = rnn\n",
    "config[\"embedding_size\"] = 20\n",
    "config[\"use_attention\"] = True\n",
    "config[\"position_embedding\"] = \"length\"\n",
    "config[\"use_memory\"] = None\n",
    "#config[\"pos_add\"] = \"cat\"\n",
    "\n",
    "print(json.dumps(config, indent=4))\n",
    "\n",
    "save_path = (data_name + dir_name\n",
    "            + (\"_att\" if config[\"use_attention\"] else \"\")\n",
    "            + (\"_with_pos_\" + config[\"position_embedding\"] if config[\"position_embedding\"] is not None else \"\")\n",
    "            + (\"_cat\" if config[\"pos_add\"] == \"cat\" else \"\")\n",
    "            + (\"_use_stack\" if config[\"use_memory\"] == \"stack\" else \"\")\n",
    "            + (\"_use_queue\" if config[\"use_memory\"] == \"queue\" else \"\")\n",
    "            + \"_emb\" + str(config[\"embedding_size\"])\n",
    "            + \"_hidden\" + str(config[\"hidden_size\"])\n",
    "            + (\"_pretrained\" if pretrained_dir_name is not None else \"\"))\n",
    "print(\"Save_path : %s\" % save_path)\n",
    "        \n",
    "if pretrained_dir_name is not None:\n",
    "    pretrained_path = (\"pretrained_weights/\"+ data_name + pretrained_dir_name\n",
    "            + (\"_att\" if config[\"use_attention\"] else \"\")\n",
    "            + (\"_with_pos_\" + config[\"position_embedding\"] if config[\"position_embedding\"] is not None else \"\")\n",
    "            + (\"_cat\" if config[\"pos_add\"] == \"cat\" else \"\")\n",
    "            + (\"_use_stack\" if config[\"use_memory\"] == \"stack\" else \"\")\n",
    "            + (\"_use_queue\" if config[\"use_memory\"] == \"queue\" else \"\")\n",
    "            + \"_emb\" + str(config[\"embedding_size\"])\n",
    "            + \"_hidden\" + str(config[\"hidden_size\"])\n",
    "            + \"_\"+rnn+\"_\"+str(i))\n",
    "    pretrained_pos_weight = np.load(pretrained_path+\"/pretrained_pos_weight.npy\")\n",
    "    seq2seq = Seq2seq(config, len(src.vocab), len(tgt.vocab), tgt.sos_id, tgt.eos_id,\n",
    "                    pretrained_pos_weight)\n",
    "else :\n",
    "    seq2seq = Seq2seq(config, len(src.vocab), len(tgt.vocab), tgt.sos_id, tgt.eos_id)"
   ]
  },
  {
   "cell_type": "markdown",
   "metadata": {},
   "source": [
    "# Initialize model"
   ]
  },
  {
   "cell_type": "code",
   "execution_count": null,
   "metadata": {},
   "outputs": [],
   "source": [
    "if torch.cuda.is_available():\n",
    "    seq2seq.cuda()\n",
    "\n",
    "for param in seq2seq.parameters():\n",
    "    param.data.uniform_(-0.08, 0.08)\n",
    "            \n",
    "log_path = \"log/pth/\"+save_path +\"_\" + rnn + \"_\" + str(select) + \"_model_save.pth\"\n",
    "seq2seq.load_state_dict(torch.load(log_path))\n",
    "seq2seq.eval()\n",
    "\n",
    "predictor = Predictor(seq2seq, input_vocab, output_vocab)"
   ]
  },
  {
   "cell_type": "markdown",
   "metadata": {},
   "source": [
    "# Answer function"
   ]
  },
  {
   "cell_type": "code",
   "execution_count": null,
   "metadata": {},
   "outputs": [],
   "source": [
    "def answer_function(data):\n",
    "    results = []\n",
    "    words = data.split(\"#\")\n",
    "    comp = []\n",
    "    result = \"\"\n",
    "    \n",
    "    for i in range(len(words[0])):\n",
    "        result += \"0\"\n",
    "        comp.append(words[0][i])\n",
    "    result += \"#\"\n",
    "    for i in range(len(words[1])):\n",
    "        w = comp.pop()\n",
    "        if words[1][i] != w:\n",
    "            if w == \"a\":\n",
    "                result += \"1\"\n",
    "            elif w == \"b\":\n",
    "                result += \"2\"\n",
    "            elif w == \"c\":\n",
    "                result += \"3\"\n",
    "            elif w == \"d\":\n",
    "                result += \"4\"\n",
    "            else:\n",
    "                result += \"0\"\n",
    "        else:\n",
    "            result += \"0\"\n",
    "            \n",
    "    results.append(result)\n",
    "\n",
    "    return \" \".join(\"#\".join(results))"
   ]
  },
  {
   "cell_type": "markdown",
   "metadata": {},
   "source": [
    "# Step function"
   ]
  },
  {
   "cell_type": "code",
   "execution_count": null,
   "metadata": {},
   "outputs": [],
   "source": [
    "def step_function(x):\n",
    "    \n",
    "    if x > 0:\n",
    "        if x < 0.5:\n",
    "            return 0\n",
    "        else:\n",
    "            return 1\n",
    "    else:\n",
    "        if x > -0.5:\n",
    "            return 0\n",
    "        else:\n",
    "            return -1"
   ]
  },
  {
   "cell_type": "markdown",
   "metadata": {},
   "source": [
    "# Position"
   ]
  },
  {
   "cell_type": "code",
   "execution_count": null,
   "metadata": {},
   "outputs": [],
   "source": [
    "fig_path = \"log/visualize/\" + save_path\n",
    "if not os.path.isdir(fig_path):\n",
    "    os.mkdir(fig_path)\n",
    "fig_path = fig_path + \"/\" + rnn\n",
    "if not os.path.isdir(fig_path):\n",
    "    os.mkdir(fig_path)"
   ]
  },
  {
   "cell_type": "markdown",
   "metadata": {},
   "source": [
    "# Predict"
   ]
  },
  {
   "cell_type": "code",
   "execution_count": null,
   "metadata": {
    "scrolled": false
   },
   "outputs": [],
   "source": [
    "try:\n",
    "    while True:\n",
    "        seq_str = input(\"input  : \")\n",
    "        seq = \"\".join(seq_str.strip().split())\n",
    "        tgt_seq, tgt_att_list, encoder_outputs, action = predictor.predict(seq)\n",
    "        #print(\"Answer : \" + answer_function(seq))\n",
    "        print(\"predict: \" + \" \".join(tgt_seq))\n",
    "        \n",
    "        # attention visualize\n",
    "        for att in tgt_att_list:\n",
    "            fig = plt.figure(figsize=(30,30))\n",
    "            ax = fig.add_subplot(111)\n",
    "            cax = ax.matshow(att, cmap='bone')\n",
    "\n",
    "            ax.set_xticklabels([''] + list(seq), fontsize=25)\n",
    "            ax.set_yticklabels([''] + tgt_seq, fontsize=25)\n",
    "\n",
    "            ax.xaxis.set_major_locator(ticker.MultipleLocator(1))\n",
    "            ax.yaxis.set_major_locator(ticker.MultipleLocator(1))\n",
    "\n",
    "            \n",
    "            #plt.savefig(fig_path + '/attn_map.png',format='png',bbox_inches='tight',dpi=300)\n",
    "        plt.show()\n",
    "        \n",
    "        if action is not None:\n",
    "            # encoder_action visualize\n",
    "            each_action = [\"ENQUEUE\", \"DEQUEUE\", \"NO-OP\"]\n",
    "            encoder_action = action[0].T\n",
    "            fig1 = plt.figure(figsize=(30,30))\n",
    "            ax1 = fig1.add_subplot(111)\n",
    "            cax1 = ax1.matshow(encoder_action, cmap='bone')\n",
    "\n",
    "            ax1.set_xticklabels([''] + tgt_seq, fontsize=25)\n",
    "            ax1.set_yticklabels([''] + each_action, fontsize=25)\n",
    "\n",
    "            ax1.xaxis.set_major_locator(ticker.MultipleLocator(1))\n",
    "            ax1.yaxis.set_major_locator(ticker.MultipleLocator(1))\n",
    "\n",
    "            plt.show()\n",
    "\n",
    "            # decoder_action visualize\n",
    "            decoder_action = action[1].T\n",
    "            fig2 = plt.figure(figsize=(30,30))\n",
    "            ax2 = fig2.add_subplot(111)\n",
    "            cax2 = ax2.matshow(decoder_action, cmap='bone')\n",
    "\n",
    "            ax2.set_xticklabels([''] + tgt_seq, fontsize=25)\n",
    "            ax2.set_yticklabels([''] + each_action, fontsize=25)\n",
    "\n",
    "            ax2.xaxis.set_major_locator(ticker.MultipleLocator(1))\n",
    "            ax2.yaxis.set_major_locator(ticker.MultipleLocator(1))\n",
    "\n",
    "            plt.show()\n",
    "        \n",
    "except KeyboardInterrupt:\n",
    "    pass"
   ]
  },
  {
   "cell_type": "code",
   "execution_count": null,
   "metadata": {},
   "outputs": [],
   "source": []
  }
 ],
 "metadata": {
  "kernelspec": {
   "display_name": "Python 3",
   "language": "python",
   "name": "python3"
  },
  "language_info": {
   "codemirror_mode": {
    "name": "ipython",
    "version": 3
   },
   "file_extension": ".py",
   "mimetype": "text/x-python",
   "name": "python",
   "nbconvert_exporter": "python",
   "pygments_lexer": "ipython3",
   "version": "3.6.7"
  }
 },
 "nbformat": 4,
 "nbformat_minor": 2
}

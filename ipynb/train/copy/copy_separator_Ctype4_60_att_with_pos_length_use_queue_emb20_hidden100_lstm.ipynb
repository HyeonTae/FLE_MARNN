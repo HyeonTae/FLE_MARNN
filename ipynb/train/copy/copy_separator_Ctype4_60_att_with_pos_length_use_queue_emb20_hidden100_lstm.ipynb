{
 "cells": [
  {
   "cell_type": "markdown",
   "metadata": {},
   "source": [
    "# Set Parameter\n",
    "- Attention = True\n",
    "- Teacher Forcing Ratio = 0.5\n",
    "- Layer = 1\n",
    "- Batch size = 128\n",
    "- Learning rate = 0.001\n",
    "- Hidden unit = 200\n",
    "- Epochs = 100\n",
    "- N = 50\n",
    "- Data Length = 100K\n",
    "- Data = [single_Ctype4_error_rate_1]\n",
    "- Deduplication\n",
    "- Random split"
   ]
  },
  {
   "cell_type": "markdown",
   "metadata": {},
   "source": [
    "# Import packages\n",
    "\n",
    "import useful packages for experiments"
   ]
  },
  {
   "cell_type": "code",
   "execution_count": 1,
   "metadata": {},
   "outputs": [],
   "source": [
    "import os\n",
    "import argparse\n",
    "import logging\n",
    "import sys\n",
    "import json\n",
    "import numpy as np\n",
    "\n",
    "import torch\n",
    "from torch.optim.lr_scheduler import StepLR\n",
    "import torchtext\n",
    "\n",
    "os.environ[\"CUDA_VISIBLE_DEVICES\"]=\"1\"\n",
    "os.chdir(os.path.dirname(os.path.abspath(os.path.dirname(os.path.abspath(os.path.dirname(os.path.abspath(os.path.dirname('__file__'))))))))\n",
    "\n",
    "from models.trainer import Trainer\n",
    "from models.seq2seq import Seq2seq\n",
    "from loss.loss import Perplexity\n",
    "from dataset import fields\n",
    "\n",
    "import matplotlib.pyplot as plt"
   ]
  },
  {
   "cell_type": "markdown",
   "metadata": {},
   "source": [
    "# Log format"
   ]
  },
  {
   "cell_type": "code",
   "execution_count": 2,
   "metadata": {},
   "outputs": [],
   "source": [
    "log_level = 'info'\n",
    "LOG_FORMAT = '%(asctime)s %(levelname)-6s %(message)s'\n",
    "logging.basicConfig(format=LOG_FORMAT, level=getattr(logging, log_level.upper()))"
   ]
  },
  {
   "cell_type": "code",
   "execution_count": 3,
   "metadata": {},
   "outputs": [],
   "source": [
    "character_accuracy = []\n",
    "sentence_accuracy = []\n",
    "f1_score = []\n",
    "best_f1_score = []\n",
    "rnn = \"lstm\"\n",
    "data_name = \"copy\"\n",
    "dir_name = \"separator_Ctype4_60\"\n",
    "pretrained_dir_name = None\n",
    "iterator = list(range(1,11,1))\n",
    "epochs = 200\n",
    "\n",
    "train_path = \"data/\"+data_name+\"_rand/correction_\"+dir_name+\"/data_train.txt\"\n",
    "dev_path = \"data/\"+data_name+\"_rand/correction_\"+dir_name+\"/data_test.txt\"\n",
    "config_path = \"models/config.json\""
   ]
  },
  {
   "cell_type": "markdown",
   "metadata": {},
   "source": [
    "# Prepare dataset"
   ]
  },
  {
   "cell_type": "code",
   "execution_count": null,
   "metadata": {
    "scrolled": true
   },
   "outputs": [
    {
     "name": "stdout",
     "output_type": "stream",
     "text": [
      "rnn : lstm\n",
      "src vocab size = 7\n",
      "tat vacab size = 10\n"
     ]
    },
    {
     "name": "stderr",
     "output_type": "stream",
     "text": [
      "/root/venv/lib/python3.6/site-packages/torch/nn/_reduction.py:46: UserWarning: size_average and reduce args will be deprecated, please use reduction='sum' instead.\n",
      "  warnings.warn(warning.format(ret))\n",
      "2020-03-14 18:23:44,227 INFO   Optimizer: Adam (\n",
      "Parameter Group 0\n",
      "    amsgrad: False\n",
      "    betas: (0.9, 0.999)\n",
      "    eps: 1e-08\n",
      "    lr: 0.002\n",
      "    weight_decay: 0\n",
      "), Scheduler: None\n"
     ]
    },
    {
     "name": "stdout",
     "output_type": "stream",
     "text": [
      "Train_path : data/copy_rand/correction_separator_Ctype4_60/data_train.txt\n",
      "Dev_path = data/copy_rand/correction_separator_Ctype4_60/data_test.txt\n",
      "{\n",
      "    \"max_len\": 65,\n",
      "    \"embedding_size\": 20,\n",
      "    \"hidden_size\": 100,\n",
      "    \"input_dropout_p\": 0,\n",
      "    \"dropout_p\": 0,\n",
      "    \"n_layers\": 1,\n",
      "    \"bidirectional\": false,\n",
      "    \"rnn_cell\": \"lstm\",\n",
      "    \"variable_lengths\": true,\n",
      "    \"embedding\": null,\n",
      "    \"update_embedding\": true,\n",
      "    \"get_context_vector\": false,\n",
      "    \"use_attention\": true,\n",
      "    \"attn_layers\": 1,\n",
      "    \"hard_attn\": false,\n",
      "    \"position_embedding\": \"length\",\n",
      "    \"pos_add\": \"add\",\n",
      "    \"use_memory\": \"queue\",\n",
      "    \"memory_dim\": 5\n",
      "}\n",
      "Save_path : copy_rand_separator_Ctype4_60_att_with_pos_length_use_queue_emb20_hidden100\n"
     ]
    },
    {
     "name": "stderr",
     "output_type": "stream",
     "text": [
      "/root/venv/lib/python3.6/site-packages/torch/nn/functional.py:1374: UserWarning: nn.functional.tanh is deprecated. Use torch.tanh instead.\n",
      "  warnings.warn(\"nn.functional.tanh is deprecated. Use torch.tanh instead.\")\n"
     ]
    }
   ],
   "source": [
    "for i in iterator:\n",
    "        print(\"rnn : %s\" % rnn)\n",
    "        max_len = 65\n",
    "        src = fields.SourceField()\n",
    "        srcp = fields.SourceField()\n",
    "        tgt = fields.TargetField()\n",
    "        tgtp = fields.TargetField()\n",
    "        def len_filter(example):\n",
    "            return len(example.src) <= max_len and len(example.tgt) <= max_len\n",
    "        train = torchtext.data.TabularDataset(\n",
    "            path=train_path, format='tsv',\n",
    "            fields=[('src', src), ('tgt', tgt)],\n",
    "            filter_pred=len_filter\n",
    "        )\n",
    "        dev = torchtext.data.TabularDataset(\n",
    "            path=dev_path, format='tsv',\n",
    "            fields=[('src', src), ('tgt', tgt)],\n",
    "            filter_pred=len_filter\n",
    "        )\n",
    "        src.build_vocab(train)\n",
    "        tgt.build_vocab(train)\n",
    "        input_vocab = src.vocab\n",
    "        output_vocab = tgt.vocab\n",
    "\n",
    "        print(\"src vocab size = %d\" % (len(src.vocab)))\n",
    "        print(\"tat vacab size = %d\" % (len(tgt.vocab)))\n",
    "\n",
    "        weight = torch.ones(len(tgt.vocab))\n",
    "        pad = tgt.vocab.stoi[tgt.pad_token]\n",
    "        loss = Perplexity(weight, pad)\n",
    "        if torch.cuda.is_available():\n",
    "            loss.cuda()\n",
    "        '''\n",
    "        {\n",
    "            \"max_len\": 104,\n",
    "            \"embedding_size\": 5,\n",
    "            \"hidden_size\": 200,\n",
    "            \"input_dropout_p\": 0,\n",
    "            \"dropout_p\": 0,\n",
    "            \"n_layers\": 1,\n",
    "            \"bidirectional\": false,\n",
    "            \"rnn_cell\": \"lstm\",\n",
    "            \"variable_lengths\": false,\n",
    "            \"embedding\": null,\n",
    "            \"update_embedding\": true,\n",
    "            \"get_context_vector\": false,\n",
    "            \"use_attention\": true,\n",
    "            \"attn_layers\": 1,\n",
    "            \"hard_attn\": false,\n",
    "            \"position_embedding\": false,\n",
    "            \"pos_add\": \"add\"\n",
    "        }\n",
    "\n",
    "        '''\n",
    "\n",
    "        optimizer = \"Adam\"\n",
    "        seq2seq = None\n",
    "        config_json = open(config_path).read()\n",
    "        config = json.loads(config_json)\n",
    "        config[\"max_len\"] = max_len\n",
    "        config[\"hidden_size\"] = 100\n",
    "        config[\"rnn_cell\"] = rnn\n",
    "        config[\"embedding_size\"] = 20\n",
    "        config[\"use_attention\"] = True\n",
    "        config[\"position_embedding\"] = \"length\"\n",
    "        config[\"use_memory\"] = \"queue\"\n",
    "        #config[\"pos_add\"] = \"cat\"\n",
    "\n",
    "        print(\"Train_path : %s\" % train_path)\n",
    "        print(\"Dev_path = %s\" % dev_path)\n",
    "        print(json.dumps(config, indent=4))\n",
    "\n",
    "        save_path = (data_name + \"_rand_\" + dir_name\n",
    "                        + (\"_att\" if config[\"use_attention\"] else \"\")\n",
    "                        + (\"_with_pos_\" + config[\"position_embedding\"] if config[\"position_embedding\"] is not None else \"\")\n",
    "                        + (\"_cat\" if config[\"pos_add\"] == \"cat\" else \"\")\n",
    "                        + (\"_use_stack\" if config[\"use_memory\"] == \"stack\" else \"\")\n",
    "                        + (\"_use_queue\" if config[\"use_memory\"] == \"queue\" else \"\")\n",
    "                        + \"_emb\" + str(config[\"embedding_size\"])\n",
    "                        + \"_hidden\" + str(config[\"hidden_size\"])\n",
    "                        + (\"_pretrained\" if pretrained_dir_name is not None else \"\"))\n",
    "        print(\"Save_path : %s\" % save_path)\n",
    "        \n",
    "        if pretrained_dir_name is not None:\n",
    "            pretrained_path = (\"pretrained_weights/\"+ data_name + \"_rand_\" + pretrained_dir_name\n",
    "                        + (\"_att\" if config[\"use_attention\"] else \"\")\n",
    "                        + (\"_with_pos_\" + config[\"position_embedding\"] if config[\"position_embedding\"] is not None else \"\")\n",
    "                        + (\"_cat\" if config[\"pos_add\"] == \"cat\" else \"\")\n",
    "                        + (\"_use_stack\" if config[\"use_memory\"] == \"stack\" else \"\")\n",
    "                        + (\"_use_queue\" if config[\"use_memory\"] == \"queue\" else \"\")\n",
    "                        + \"_emb\" + str(config[\"embedding_size\"])\n",
    "                        + \"_hidden\" + str(config[\"hidden_size\"])\n",
    "                        + \"_\"+rnn+\"_\"+str(i))\n",
    "            pretrained_pos_weight = np.load(pretrained_path+\"/pretrained_pos_weight.npy\")\n",
    "            seq2seq = Seq2seq(config, len(src.vocab), len(tgt.vocab), tgt.sos_id, tgt.eos_id,\n",
    "                              pretrained_pos_weight)\n",
    "        else :\n",
    "            seq2seq = Seq2seq(config, len(src.vocab), len(tgt.vocab), tgt.sos_id, tgt.eos_id)\n",
    "        \n",
    "        if torch.cuda.is_available():\n",
    "            seq2seq.cuda()\n",
    "\n",
    "        for param in seq2seq.parameters():\n",
    "            param.data.uniform_(-0.08, 0.08)\n",
    "\n",
    "        # train\n",
    "        t = Trainer(loss=loss, batch_size=128,\n",
    "                    learning_rate=0.002,\n",
    "                    checkpoint_every=50,\n",
    "                    print_every=100,\n",
    "                    hidden_size=config[\"hidden_size\"],\n",
    "                    path=save_path,\n",
    "                    file_name=config[\"rnn_cell\"] + \"_\" + str(i))\n",
    "\n",
    "        seq2seq, ave_loss, character_accuracy_list, sentence_accuracy_list, f1_score_list = t.train(seq2seq, train,\n",
    "                                                                                 num_epochs=epochs, dev_data=dev,\n",
    "                                                                                 optimizer=optimizer,\n",
    "                                                                                 teacher_forcing_ratio=0.5)\n",
    "\n",
    "        character_accuracy.append(character_accuracy_list)\n",
    "        sentence_accuracy.append(sentence_accuracy_list)\n",
    "        f1_score.append(f1_score_list)\n",
    "        best_f1_score.append(max(f1_score_list))"
   ]
  },
  {
   "cell_type": "code",
   "execution_count": null,
   "metadata": {},
   "outputs": [],
   "source": [
    "plt.figure(figsize=(15,7))\n",
    "for j in range(len(sentence_accuracy)):\n",
    "    plt.plot(list(range(1, len(sentence_accuracy[j])+1, 1))[::3], sentence_accuracy[j][::3], '-', LineWidth=3, label=str(j+1))\n",
    "\n",
    "plt.legend(loc=\"best\", fontsize=12)\n",
    "plt.title(data_name+\"_\"+rnn, fontsize=24)\n",
    "plt.xlabel('Epoch', fontsize=24)\n",
    "plt.ylabel('Sentence Accuracy', fontsize=24)\n",
    "plt.ylim([0, 1.02])\n",
    "plt.grid()\n",
    "#plt.savefig('')"
   ]
  },
  {
   "cell_type": "code",
   "execution_count": null,
   "metadata": {},
   "outputs": [],
   "source": [
    "plt.figure(figsize=(15,7))\n",
    "for j in range(len(f1_score)):\n",
    "    plt.plot(list(range(1, len(f1_score[j])+1, 1))[::3], f1_score[j][::3], '-', LineWidth=3, label=str(j+1))\n",
    "\n",
    "plt.legend(loc=\"best\", fontsize=12)\n",
    "plt.title(data_name+\"_\"+rnn, fontsize=24)\n",
    "plt.xlabel('Epoch', fontsize=24)\n",
    "plt.ylabel('F1 Score', fontsize=24)\n",
    "plt.ylim([0, 1.02])\n",
    "plt.grid()\n",
    "#plt.savefig('')"
   ]
  },
  {
   "cell_type": "code",
   "execution_count": null,
   "metadata": {},
   "outputs": [],
   "source": [
    "plt.figure(figsize=(15,7))\n",
    "plt.plot(list(range(1, len(best_f1_score)+1)), best_f1_score, '-', LineWidth=3, label=\"Best F1 Score\")\n",
    "\n",
    "plt.legend(loc=\"best\", fontsize=12)\n",
    "plt.xlabel('Numer of Iterations', fontsize=24)\n",
    "plt.title(data_name+\"_\"+rnn, fontsize=24)\n",
    "plt.ylabel('F1 Score', fontsize=24)\n",
    "plt.ylim([0, 1.02])\n",
    "plt.grid()\n",
    "#plt.savefig('')"
   ]
  },
  {
   "cell_type": "code",
   "execution_count": null,
   "metadata": {
    "scrolled": true
   },
   "outputs": [],
   "source": [
    "print(f1_score)"
   ]
  },
  {
   "cell_type": "code",
   "execution_count": null,
   "metadata": {},
   "outputs": [],
   "source": [
    "print(best_f1_score)"
   ]
  },
  {
   "cell_type": "code",
   "execution_count": null,
   "metadata": {},
   "outputs": [],
   "source": [
    "print(sum(best_f1_score, 0.0)/len(best_f1_score))"
   ]
  },
  {
   "cell_type": "markdown",
   "metadata": {},
   "source": []
  }
 ],
 "metadata": {
  "kernelspec": {
   "display_name": "Python 3",
   "language": "python",
   "name": "python3"
  },
  "language_info": {
   "codemirror_mode": {
    "name": "ipython",
    "version": 3
   },
   "file_extension": ".py",
   "mimetype": "text/x-python",
   "name": "python",
   "nbconvert_exporter": "python",
   "pygments_lexer": "ipython3",
   "version": "3.6.9"
  }
 },
 "nbformat": 4,
 "nbformat_minor": 2
}
